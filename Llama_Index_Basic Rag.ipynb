{
 "cells": [
  {
   "cell_type": "code",
   "execution_count": 1,
   "id": "51c74eb0-1e2a-4edf-b231-997a3702ed6d",
   "metadata": {},
   "outputs": [],
   "source": [
    "from dotenv import dotenv_values\n",
    "import os\n",
    "import openai\n",
    "from llama_index import SimpleDirectoryReader\n",
    "from llama_index import Document\n",
    "from llama_index import VectorStoreIndex\n",
    "from llama_index import ServiceContext\n",
    "from llama_index.llms import OpenAI"
   ]
  },
  {
   "cell_type": "code",
   "execution_count": 2,
   "id": "3021eae3-1321-45f9-aa08-b648956b967e",
   "metadata": {},
   "outputs": [],
   "source": [
    "config = dotenv_values(\".env\")"
   ]
  },
  {
   "cell_type": "code",
   "execution_count": 3,
   "id": "89259b0b-2f0d-4512-ba5e-81d9363c7319",
   "metadata": {},
   "outputs": [],
   "source": [
    "openai.api_key = config[\"openai_secret_key\"]"
   ]
  },
  {
   "cell_type": "code",
   "execution_count": 4,
   "id": "1a1479a1-87ae-4972-9d13-9205875ae1f1",
   "metadata": {},
   "outputs": [],
   "source": [
    "documents = SimpleDirectoryReader(\n",
    "    input_files=[\"data/RAG_paper.pdf\"]\n",
    ").load_data()"
   ]
  },
  {
   "cell_type": "code",
   "execution_count": 5,
   "id": "e41da0f9-cc97-4865-b8c3-a4c34a24ffcd",
   "metadata": {},
   "outputs": [
    {
     "name": "stdout",
     "output_type": "stream",
     "text": [
      "<class 'list'> \n",
      "\n",
      "19 \n",
      "\n",
      "<class 'llama_index.schema.Document'>\n",
      "Doc ID: fce4b117-66ce-4afd-9bf9-88b3ab5c2ccf\n",
      "Text: Retrieval-Augmented Generation for Knowledge-Intensive NLP Tasks\n",
      "Patrick Lewisyz, Ethan Perez?, Aleksandra Piktusy, Fabio Petroniy,\n",
      "Vladimir Karpukhiny, Naman Goyaly, Heinrich Küttlery, Mike Lewisy,\n",
      "Wen-tau Yihy, Tim Rocktäschelyz, Sebastian Riedelyz, Douwe Kielay\n",
      "yFacebook AI Research;zUniversity College London;?New York University;\n",
      "plewis@fb.c...\n"
     ]
    }
   ],
   "source": [
    "print(type(documents), \"\\n\")\n",
    "print(len(documents), \"\\n\")\n",
    "print(type(documents[0]))\n",
    "print(documents[0])"
   ]
  },
  {
   "cell_type": "code",
   "execution_count": 6,
   "id": "3d1dab88-8269-4af6-a211-21d238198089",
   "metadata": {},
   "outputs": [],
   "source": [
    "document = Document(text=\"\\n\\n\".join([doc.text for doc in documents]))"
   ]
  },
  {
   "cell_type": "code",
   "execution_count": 7,
   "id": "9c263ae7-2e32-4a05-a4b8-c3fa2b69a789",
   "metadata": {},
   "outputs": [
    {
     "name": "stderr",
     "output_type": "stream",
     "text": [
      "C:\\Users\\tejas\\AppData\\Roaming\\Python\\Python310\\site-packages\\tqdm\\auto.py:21: TqdmWarning: IProgress not found. Please update jupyter and ipywidgets. See https://ipywidgets.readthedocs.io/en/stable/user_install.html\n",
      "  from .autonotebook import tqdm as notebook_tqdm\n"
     ]
    },
    {
     "name": "stdout",
     "output_type": "stream",
     "text": [
      "\n",
      "===================================BUG REPORT===================================\n",
      "Welcome to bitsandbytes. For bug reports, please submit your error trace to: https://github.com/TimDettmers/bitsandbytes/issues\n",
      "================================================================================\n",
      "binary_path: C:\\Users\\tejas\\AppData\\Local\\Programs\\Python\\Python310\\lib\\site-packages\\bitsandbytes\\cuda_setup\\libbitsandbytes_cuda116.dll\n",
      "CUDA SETUP: Loading binary C:\\Users\\tejas\\AppData\\Local\\Programs\\Python\\Python310\\lib\\site-packages\\bitsandbytes\\cuda_setup\\libbitsandbytes_cuda116.dll...\n"
     ]
    }
   ],
   "source": [
    "llm = OpenAI(model=\"gpt-3.5-turbo\", temperature=0.1)\n",
    "service_context = ServiceContext.from_defaults(\n",
    "    llm=llm, embed_model=\"local:BAAI/bge-small-en-v1.5\"\n",
    ")\n",
    "index = VectorStoreIndex.from_documents([document],\n",
    "                                        service_context=service_context)"
   ]
  },
  {
   "cell_type": "code",
   "execution_count": 8,
   "id": "621f648a-91f0-43ac-af1e-e8a43ae41350",
   "metadata": {},
   "outputs": [],
   "source": [
    "query_engine = index.as_query_engine()"
   ]
  },
  {
   "cell_type": "code",
   "execution_count": 9,
   "id": "e0412538-9d5d-4eb0-ab0d-b9eb42218452",
   "metadata": {},
   "outputs": [
    {
     "name": "stdout",
     "output_type": "stream",
     "text": [
      "Open-domain question answering is a real-world application and a common testbed for knowledge-intensive tasks. In open-domain question answering, questions and answers are treated as input-output text pairs. The goal is to generate answers to questions using non-parametric knowledge sources, such as Wikipedia articles. This approach is compared to extractive question answering, where answers are extracted from retrieved documents, and closed-book question answering, which generates answers based on parametric knowledge alone. Open-domain question answering is evaluated using various datasets, such as Natural Questions, TriviaQA, WebQuestions, and CuratedTrec.\n"
     ]
    }
   ],
   "source": [
    "response = query_engine.query(\n",
    "    \"What is open domain question answering?\"\n",
    ")\n",
    "print(str(response))"
   ]
  }
 ],
 "metadata": {
  "kernelspec": {
   "display_name": "Python 3 (ipykernel)",
   "language": "python",
   "name": "python3"
  },
  "language_info": {
   "codemirror_mode": {
    "name": "ipython",
    "version": 3
   },
   "file_extension": ".py",
   "mimetype": "text/x-python",
   "name": "python",
   "nbconvert_exporter": "python",
   "pygments_lexer": "ipython3",
   "version": "3.10.8"
  }
 },
 "nbformat": 4,
 "nbformat_minor": 5
}
