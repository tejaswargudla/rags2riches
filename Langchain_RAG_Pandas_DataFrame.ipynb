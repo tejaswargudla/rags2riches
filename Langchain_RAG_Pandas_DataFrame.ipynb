{
 "cells": [
  {
   "cell_type": "markdown",
   "id": "b5a5d525-4932-48ec-a966-5535a7992d56",
   "metadata": {},
   "source": [
    "# Mitre Attack Tactics and Techniques"
   ]
  },
  {
   "cell_type": "markdown",
   "id": "80f5fd47-a1b4-4550-96c5-5d23c5efe211",
   "metadata": {},
   "source": [
    "### This code is about chatting with Cyber Security Mitre Attack Tactics and Techniques data source. How I am coverting the pandas agent into RAG agent and the pros and cons choosing the approach. Workflow goes in below order:\n",
    "\n",
    "1. Extarct the data from the Mitre Attack source.\n",
    "2. Pandas Agent\n",
    "3. Indexing\n",
    "4. Retrieval\n",
    "5. Generation\n",
    "6. Pros and Cons"
   ]
  },
  {
   "cell_type": "markdown",
   "id": "2886916e-f4a7-46fa-ae9c-c4f768fa7f3b",
   "metadata": {},
   "source": [
    "# Importing the necessary packages"
   ]
  },
  {
   "cell_type": "code",
   "execution_count": 1,
   "id": "4e313b54-8374-4548-820b-fb293ab7e54b",
   "metadata": {},
   "outputs": [],
   "source": [
    "import pandas as pd\n",
    "import langchain\n",
    "from langchain import hub\n",
    "from langchain.docstore.document import Document\n",
    "from langchain_community.vectorstores import Chroma\n",
    "from langchain_core.output_parsers import StrOutputParser\n",
    "from langchain_core.runnables import RunnablePassthrough\n",
    "from langchain_openai import ChatOpenAI, OpenAIEmbeddings"
   ]
  },
  {
   "cell_type": "code",
   "execution_count": 4,
   "id": "6c226ece-af30-4b3a-bde8-51e3d8adc3ff",
   "metadata": {},
   "outputs": [
    {
     "data": {
      "text/html": [
       "<div>\n",
       "<style scoped>\n",
       "    .dataframe tbody tr th:only-of-type {\n",
       "        vertical-align: middle;\n",
       "    }\n",
       "\n",
       "    .dataframe tbody tr th {\n",
       "        vertical-align: top;\n",
       "    }\n",
       "\n",
       "    .dataframe thead th {\n",
       "        text-align: right;\n",
       "    }\n",
       "</style>\n",
       "<table border=\"1\" class=\"dataframe\">\n",
       "  <thead>\n",
       "    <tr style=\"text-align: right;\">\n",
       "      <th></th>\n",
       "      <th>ID</th>\n",
       "      <th>STIX ID</th>\n",
       "      <th>name</th>\n",
       "      <th>description</th>\n",
       "      <th>url</th>\n",
       "      <th>created</th>\n",
       "      <th>last modified</th>\n",
       "      <th>domain</th>\n",
       "      <th>version</th>\n",
       "      <th>tactics</th>\n",
       "      <th>...</th>\n",
       "      <th>is sub-technique</th>\n",
       "      <th>sub-technique of</th>\n",
       "      <th>defenses bypassed</th>\n",
       "      <th>contributors</th>\n",
       "      <th>permissions required</th>\n",
       "      <th>supports remote</th>\n",
       "      <th>system requirements</th>\n",
       "      <th>impact type</th>\n",
       "      <th>effective permissions</th>\n",
       "      <th>relationship citations</th>\n",
       "    </tr>\n",
       "  </thead>\n",
       "  <tbody>\n",
       "    <tr>\n",
       "      <th>0</th>\n",
       "      <td>T1548</td>\n",
       "      <td>attack-pattern--67720091-eee3-4d2d-ae16-826456...</td>\n",
       "      <td>Abuse Elevation Control Mechanism</td>\n",
       "      <td>Adversaries may circumvent mechanisms designed...</td>\n",
       "      <td>https://attack.mitre.org/techniques/T1548</td>\n",
       "      <td>30 January 2020</td>\n",
       "      <td>15 April 2024</td>\n",
       "      <td>enterprise-attack</td>\n",
       "      <td>1.3</td>\n",
       "      <td>Defense Evasion, Privilege Escalation</td>\n",
       "      <td>...</td>\n",
       "      <td>False</td>\n",
       "      <td>NaN</td>\n",
       "      <td>NaN</td>\n",
       "      <td>NaN</td>\n",
       "      <td>Administrator, User</td>\n",
       "      <td>NaN</td>\n",
       "      <td>NaN</td>\n",
       "      <td>NaN</td>\n",
       "      <td>NaN</td>\n",
       "      <td>,(Citation: Github UACMe)</td>\n",
       "    </tr>\n",
       "    <tr>\n",
       "      <th>1</th>\n",
       "      <td>T1548.002</td>\n",
       "      <td>attack-pattern--120d5519-3098-4e1c-9191-2aa612...</td>\n",
       "      <td>Abuse Elevation Control Mechanism: Bypass User...</td>\n",
       "      <td>Adversaries may bypass UAC mechanisms to eleva...</td>\n",
       "      <td>https://attack.mitre.org/techniques/T1548/002</td>\n",
       "      <td>30 January 2020</td>\n",
       "      <td>21 April 2023</td>\n",
       "      <td>enterprise-attack</td>\n",
       "      <td>2.1</td>\n",
       "      <td>Defense Evasion, Privilege Escalation</td>\n",
       "      <td>...</td>\n",
       "      <td>True</td>\n",
       "      <td>T1548</td>\n",
       "      <td>Windows User Account Control</td>\n",
       "      <td>Casey Smith; Stefan Kanthak</td>\n",
       "      <td>Administrator, User</td>\n",
       "      <td>NaN</td>\n",
       "      <td>NaN</td>\n",
       "      <td>NaN</td>\n",
       "      <td>Administrator</td>\n",
       "      <td>(Citation: Github PowerShell Empire),(Citation...</td>\n",
       "    </tr>\n",
       "  </tbody>\n",
       "</table>\n",
       "<p>2 rows × 23 columns</p>\n",
       "</div>"
      ],
      "text/plain": [
       "          ID                                            STIX ID  \\\n",
       "0      T1548  attack-pattern--67720091-eee3-4d2d-ae16-826456...   \n",
       "1  T1548.002  attack-pattern--120d5519-3098-4e1c-9191-2aa612...   \n",
       "\n",
       "                                                name  \\\n",
       "0                  Abuse Elevation Control Mechanism   \n",
       "1  Abuse Elevation Control Mechanism: Bypass User...   \n",
       "\n",
       "                                         description  \\\n",
       "0  Adversaries may circumvent mechanisms designed...   \n",
       "1  Adversaries may bypass UAC mechanisms to eleva...   \n",
       "\n",
       "                                             url          created  \\\n",
       "0      https://attack.mitre.org/techniques/T1548  30 January 2020   \n",
       "1  https://attack.mitre.org/techniques/T1548/002  30 January 2020   \n",
       "\n",
       "   last modified             domain  version  \\\n",
       "0  15 April 2024  enterprise-attack      1.3   \n",
       "1  21 April 2023  enterprise-attack      2.1   \n",
       "\n",
       "                                 tactics  ... is sub-technique  \\\n",
       "0  Defense Evasion, Privilege Escalation  ...            False   \n",
       "1  Defense Evasion, Privilege Escalation  ...             True   \n",
       "\n",
       "  sub-technique of             defenses bypassed                 contributors  \\\n",
       "0              NaN                           NaN                          NaN   \n",
       "1            T1548  Windows User Account Control  Casey Smith; Stefan Kanthak   \n",
       "\n",
       "  permissions required supports remote system requirements impact type  \\\n",
       "0  Administrator, User             NaN                 NaN         NaN   \n",
       "1  Administrator, User             NaN                 NaN         NaN   \n",
       "\n",
       "   effective permissions                             relationship citations  \n",
       "0                    NaN                          ,(Citation: Github UACMe)  \n",
       "1          Administrator  (Citation: Github PowerShell Empire),(Citation...  \n",
       "\n",
       "[2 rows x 23 columns]"
      ]
     },
     "execution_count": 4,
     "metadata": {},
     "output_type": "execute_result"
    }
   ],
   "source": [
    "df = pd.read_excel(\"https://attack.mitre.org/docs/enterprise-attack-v15.1/enterprise-attack-v15.1-techniques.xlsx\")\n",
    "df.head(2)"
   ]
  },
  {
   "cell_type": "code",
   "execution_count": 5,
   "id": "7096242d-7cea-4645-b67c-74453dcc394c",
   "metadata": {},
   "outputs": [
    {
     "data": {
      "text/plain": [
       "(637, 23)"
      ]
     },
     "execution_count": 5,
     "metadata": {},
     "output_type": "execute_result"
    }
   ],
   "source": [
    "df.shape"
   ]
  },
  {
   "cell_type": "code",
   "execution_count": null,
   "id": "efc7bed2-bb2d-4df6-9960-d942e0f88b00",
   "metadata": {},
   "outputs": [],
   "source": []
  }
 ],
 "metadata": {
  "kernelspec": {
   "display_name": "Python 3 (ipykernel)",
   "language": "python",
   "name": "python3"
  },
  "language_info": {
   "codemirror_mode": {
    "name": "ipython",
    "version": 3
   },
   "file_extension": ".py",
   "mimetype": "text/x-python",
   "name": "python",
   "nbconvert_exporter": "python",
   "pygments_lexer": "ipython3",
   "version": "3.10.8"
  }
 },
 "nbformat": 4,
 "nbformat_minor": 5
}
